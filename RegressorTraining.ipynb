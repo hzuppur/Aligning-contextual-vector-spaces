{
 "cells": [
  {
   "cell_type": "markdown",
   "id": "c6054eff",
   "metadata": {},
   "source": [
    "### Load or generate token embeddings"
   ]
  },
  {
   "cell_type": "code",
   "execution_count": null,
   "id": "8a9fed47",
   "metadata": {},
   "outputs": [],
   "source": [
    "import numpy as np\n",
    "from tqdm import tqdm\n",
    "\n",
    "from src import GenerateVectors\n",
    "from src import CosineSimilarity\n",
    "\n",
    "n_sents = 10_000\n",
    "test_dataset = [\"data/da-sv.txt/OpenSubtitles.da-sv.sv\"]\n",
    "outdir = \"generated/\"\n",
    "save_prefix = \"sv_10k\"\n",
    "\n",
    "model_name_1 = \"models/opus-mt-NORTH_EU-NORTH_EU\"\n",
    "model_name_2 = \"models/opus-mt-SCANDINAVIA-SCANDINAVIA\"\n",
    "\n",
    "token_embedings_1, token_embedings_2 = GenerateVectors.generate_or_load(test_dataset, n_sents, model_name_1, model_name_2, outdir, save_prefix)\n",
    "\n",
    "print(token_embedings_1.shape)\n",
    "print(token_embedings_2.shape)"
   ]
  },
  {
   "cell_type": "code",
   "execution_count": null,
   "id": "5dd9e2f1",
   "metadata": {},
   "outputs": [],
   "source": [
    "import random\n",
    "import numpy as np\n",
    "from sklearn.linear_model import LinearRegression\n",
    "from sklearn.model_selection import train_test_split\n",
    "from sklearn.neural_network import MLPRegressor\n",
    "\n",
    "def train_and_eval(regressor, data_x, data_y, n_runs, n_samples):\n",
    "    similarity_cos = 0\n",
    "    \n",
    "    for _ in range(n_runs):\n",
    "        batch = random.sample(range(0, len(data_x)), n_samples + 10_000)\n",
    "        train_ids = batch[:n_samples]\n",
    "        test_ids = batch[n_samples:]\n",
    "        \n",
    "        if regressor == \"MLP\":\n",
    "            model = MLPRegressor(\n",
    "                random_state=1, hidden_layer_sizes=(8192)\n",
    "            ).fit(data_x[train_ids], data_y[train_ids])\n",
    "        elif regressor == \"LR\":\n",
    "            model = LinearRegression().fit(data_x[train_ids], data_y[train_ids]) \n",
    "        elif regressor == \"OR\":\n",
    "            model = OrthogonalRegression(use_orthogonal_projector=False).fit(data_x[train_ids], data_y[train_ids])\n",
    "        \n",
    "        similarity_cos += CosineSimilarity.cosine_similarity(model.predict(data_x[test_ids]), data_y[test_ids])\n",
    "        \n",
    "    return similarity_cos / n_runs"
   ]
  },
  {
   "cell_type": "markdown",
   "id": "88e8e965",
   "metadata": {},
   "source": [
    "### Performe experiments to find the best regressor"
   ]
  },
  {
   "cell_type": "code",
   "execution_count": null,
   "id": "f5b9b2ef",
   "metadata": {},
   "outputs": [],
   "source": [
    "def eval_regressor_on_different_ammount_of_data(regressor, n_samples):\n",
    "    test_n = 10_000\n",
    "    results_n = []\n",
    "    results_score_cos = []\n",
    "\n",
    "    while(n_samples + test_n < len(token_embedings_1)):\n",
    "        embedings_1 = token_embedings_1[:n_samples]\n",
    "        embedings_2 = token_embedings_2[:n_samples]\n",
    "\n",
    "        score_cos = train_and_eval(regressor, token_embedings_1, token_embedings_2, 10, n_samples)\n",
    "\n",
    "        results_n.append(n_samples)\n",
    "        results_score_cos.append(score_cos)\n",
    "\n",
    "        print(f\"{n_samples}={round(score_cos, 3)}\")\n",
    "        n_samples *= 2\n",
    "\n",
    "    print(results_n)\n",
    "    print(results_score_cos)\n",
    "\n",
    "eval_regressor_on_different_ammount_of_data(\"MLP\", 100)"
   ]
  },
  {
   "cell_type": "markdown",
   "id": "9c140578",
   "metadata": {},
   "source": [
    "### Train the best regressor"
   ]
  },
  {
   "cell_type": "code",
   "execution_count": null,
   "id": "53f48e4e",
   "metadata": {},
   "outputs": [],
   "source": [
    "train_n_samples = 10_000\n",
    "train_ids = random.sample(range(0, len(token_embedings_1)), train_n_samples)\n",
    "\n",
    "regressor = MLPRegressor(\n",
    "    random_state=1, hidden_layer_sizes=(8192)\n",
    ").fit(token_embedings_1[train_ids], token_embedings_2[train_ids])"
   ]
  },
  {
   "cell_type": "markdown",
   "id": "0a68a1c1",
   "metadata": {},
   "source": [
    "### Save the MLP regressor"
   ]
  },
  {
   "cell_type": "code",
   "execution_count": null,
   "id": "698ce136",
   "metadata": {},
   "outputs": [],
   "source": [
    "import jdata as jd\n",
    "\n",
    "regressor_name = f\"models/MLP_regressor_{GenerateVectors.get_output_file_name(save_prefix, model_name_1, model_name_2)}.json\"\n",
    "\n",
    "mlp_json ={\n",
    "    \"intercepts_\": regressor.intercepts_,\n",
    "    \"coefs_\": regressor.coefs_,\n",
    "    \"n_layers_\": regressor.n_layers_,\n",
    "    \"out_activation_\": regressor.out_activation_\n",
    "}\n",
    "\n",
    "jd.save(mlp_json, regressor_name)"
   ]
  },
  {
   "cell_type": "markdown",
   "id": "b861cc7a",
   "metadata": {},
   "source": [
    "### Load the trained MLP regressor"
   ]
  },
  {
   "cell_type": "code",
   "execution_count": null,
   "id": "660c9174",
   "metadata": {},
   "outputs": [],
   "source": [
    "mlp_conf = jd.load(regressor_name)\n",
    "\n",
    "loaded_regressor = MLPRegressor(random_state=1, hidden_layer_sizes=(8192))\n",
    "\n",
    "loaded_regressor.intercepts_ = mlp_conf[\"intercepts_\"]\n",
    "loaded_regressor.coefs_ = mlp_conf[\"coefs_\"]\n",
    "loaded_regressor.n_layers_ = mlp_conf[\"n_layers_\"]\n",
    "loaded_regressor.out_activation_ = mlp_conf[\"out_activation_\"]"
   ]
  }
 ],
 "metadata": {
  "kernelspec": {
   "display_name": "Python 3 (ipykernel)",
   "language": "python",
   "name": "python3"
  },
  "language_info": {
   "codemirror_mode": {
    "name": "ipython",
    "version": 3
   },
   "file_extension": ".py",
   "mimetype": "text/x-python",
   "name": "python",
   "nbconvert_exporter": "python",
   "pygments_lexer": "ipython3",
   "version": "3.10.9"
  }
 },
 "nbformat": 4,
 "nbformat_minor": 5
}
